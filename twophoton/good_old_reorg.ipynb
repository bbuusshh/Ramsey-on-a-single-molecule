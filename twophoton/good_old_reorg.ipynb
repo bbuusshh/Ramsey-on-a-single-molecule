{
 "cells": [
  {
   "cell_type": "code",
   "execution_count": 1,
   "metadata": {},
   "outputs": [],
   "source": [
    "import subprocess\n",
    "from subprocess import call\n",
    "import os\n"
   ]
  },
  {
   "cell_type": "code",
   "execution_count": 2,
   "metadata": {},
   "outputs": [],
   "source": [
    "sh = + 4400\n",
    "# ?sh=0\n",
    "vari = 49600 + sh;\n",
    "# larger values shift the blue curve left"
   ]
  },
  {
   "cell_type": "code",
   "execution_count": 11,
   "metadata": {},
   "outputs": [
    {
     "data": {
      "text/plain": [
       "54000"
      ]
     },
     "execution_count": 11,
     "metadata": {},
     "output_type": "execute_result"
    }
   ],
   "source": [
    "vari"
   ]
  },
  {
   "cell_type": "code",
   "execution_count": 3,
   "metadata": {},
   "outputs": [],
   "source": [
    "os.chdir(\"C:\\Data\")"
   ]
  },
  {
   "cell_type": "code",
   "execution_count": 4,
   "metadata": {},
   "outputs": [],
   "source": [
    "dumpLocation = 'C:\\Data\\somenottoobad_3.dump'"
   ]
  },
  {
   "cell_type": "code",
   "execution_count": 5,
   "metadata": {},
   "outputs": [
    {
     "data": {
      "text/plain": [
       "['no_corr.png',\n",
       " 'rabi_0.dump',\n",
       " 'Rabi_bernhardt_0.dump',\n",
       " 'Rabi_bernhardt_1.dump',\n",
       " 'Rabi_bernhardt_2.dump',\n",
       " 'somenottoobad_1.dump',\n",
       " 'somenottoobad_2.dump',\n",
       " 'somenottoobad_3.dump',\n",
       " 'somesecond-rabi_1.dump',\n",
       " 'somesecond-rabi_2.dump']"
      ]
     },
     "execution_count": 5,
     "metadata": {},
     "output_type": "execute_result"
    }
   ],
   "source": [
    "os.listdir()"
   ]
  },
  {
   "cell_type": "code",
   "execution_count": 6,
   "metadata": {},
   "outputs": [],
   "source": [
    "scripta = r\"C:\\Users\\vbush\\Documents\\git\\molecules\\twophoton\\tools\\delay\" \n",
    "#'Users\\vbush\\Documents\\git\\molecules\\twophoton\\tools\\delay.exe'"
   ]
  },
  {
   "cell_type": "code",
   "execution_count": 20,
   "metadata": {},
   "outputs": [],
   "source": [
    "script = f'cat C:\\Data\\somenottoobad_3.dump | ./delay -p1 -d54000 > C:\\Data\\shifted3.dump'"
   ]
  },
  {
   "cell_type": "code",
   "execution_count": 21,
   "metadata": {},
   "outputs": [
    {
     "data": {
      "text/plain": [
       "255"
      ]
     },
     "execution_count": 21,
     "metadata": {},
     "output_type": "execute_result"
    }
   ],
   "source": [
    "call(script, shell=True)"
   ]
  },
  {
   "cell_type": "code",
   "execution_count": null,
   "metadata": {},
   "outputs": [],
   "source": []
  }
 ],
 "metadata": {
  "kernelspec": {
   "display_name": "Python 3",
   "language": "python",
   "name": "python3"
  },
  "language_info": {
   "codemirror_mode": {
    "name": "ipython",
    "version": 3
   },
   "file_extension": ".py",
   "mimetype": "text/x-python",
   "name": "python",
   "nbconvert_exporter": "python",
   "pygments_lexer": "ipython3",
   "version": "3.8.5"
  }
 },
 "nbformat": 4,
 "nbformat_minor": 4
}
